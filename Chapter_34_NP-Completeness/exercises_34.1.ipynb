{
 "cells": [
  {
   "cell_type": "markdown",
   "metadata": {},
   "source": [
    "## 34.1 Polynomial time"
   ]
  },
  {
   "cell_type": "markdown",
   "metadata": {},
   "source": [
    "### 34.1-1\n",
    "\n",
    "> Define the optimization problem LONGEST-PATH-LENGTH as the relation that associates each instance of an undirected graph and two vertices with the number of edges in a longest simple path between the two vertices. Define the decision problem LONGEST-PATH $=\\{\\langle G, u, v, k \\rangle : G = (V, E)$ is an undirected graph, $u, v \\in V$, $k \\ge 0$ is an integer, and there exists a simple path from $u$ to $v$ in $G$ consisting of at least $k$ edges$\\}$. Show that the optimization problem LONGEST-PATH-LENGTH can be solved in polynomial time if and only if LONGEST-PATH $\\in$ P."
   ]
  },
  {
   "cell_type": "markdown",
   "metadata": {},
   "source": [
    "* LONGEST-PATH-LENGTH can be solved in polynomial time $\\Rightarrow$ LONGEST-PATH $\\in$ P\n",
    "\n",
    "Suppose it takes $O(n^k)$ time to determine that LONGEST-PATH-LENGTH is $k^*$. For any $k \\le k^*$, LONGEST-PATH$(\\langle G, u, v, k \\rangle)=1$, otherwise LONGEST-PATH$(\\langle G, u, v, k \\rangle)=0$, which takes $O(n^k)$ time."
   ]
  },
  {
   "cell_type": "markdown",
   "metadata": {},
   "source": [
    "* LONGEST-PATH-LENGTH can be solved in polynomial time $\\Leftarrow$ LONGEST-PATH $\\in$ P \n",
    "\n",
    "Suppose LONGEST-PATH can be solved in $O(n^k)$ time. Enumerate $k \\in [0, |V| - 1]$ to find the largest $k$ that LONGEST-PATH$(\\langle G, u, v, k \\rangle)=1$ takes $O(|V| \\cdot n^k) = O(n^c \\cdot n^k) = O(n^{ck})$ time, which is still polynomial, while the largest $k$ is the LONGEST-PATH-LENGTH."
   ]
  },
  {
   "cell_type": "markdown",
   "metadata": {},
   "source": [
    "### 34.1-2\n",
    "\n",
    "> Give a formal definition for the problem of finding the longest simple cycle in an undirected graph. Give a related decision problem. Give the language corresponding to the decision problem."
   ]
  },
  {
   "cell_type": "markdown",
   "metadata": {},
   "source": [
    "* Formal definition\n",
    "\n",
    "Instance: a graph $G$\n",
    "\n",
    "Solutions: a seqeunce of vertices in the graph\n",
    "\n",
    "Problem: find the simple cycle in $G$ which has the largest length $k$.\n",
    "\n",
    "* Decision problem\n",
    "\n",
    "If $i = \\langle G, k \\rangle$ is an instance of the decision problem CYCLE, then CYCLE$(i)=1$ if there exists a simple cycle whose length is at least $k$, and CYCLE$(i)=0$ otherwise.\n",
    "\n",
    "* Language\n",
    "\n",
    "$$\n",
    "\\begin{array}{rl}\n",
    "\\text{CYCLE} = \\{ \\langle G, k \\rangle: & G = (V, E) \\text{ is an undirected graph}, \\\\\n",
    "                           & k \\ge 0 \\text{ is an integer, and} \\\\\n",
    "                           & \\text{there exists a simple cycle in } G \\text{ consisting of at least } k \\text{ edges } \\}.\n",
    "\\end{array}\n",
    "$$"
   ]
  },
  {
   "cell_type": "markdown",
   "metadata": {},
   "source": []
  }
 ],
 "metadata": {
  "kernelspec": {
   "display_name": "Python 2",
   "language": "python",
   "name": "python2"
  },
  "language_info": {
   "codemirror_mode": {
    "name": "ipython",
    "version": 2
   },
   "file_extension": ".py",
   "mimetype": "text/x-python",
   "name": "python",
   "nbconvert_exporter": "python",
   "pygments_lexer": "ipython2",
   "version": "2.7.12"
  }
 },
 "nbformat": 4,
 "nbformat_minor": 2
}
