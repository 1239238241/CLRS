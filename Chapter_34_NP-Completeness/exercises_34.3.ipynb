{
 "cells": [
  {
   "cell_type": "markdown",
   "metadata": {},
   "source": [
    "## 34.3 NP-completeness and reducibility"
   ]
  },
  {
   "cell_type": "markdown",
   "metadata": {},
   "source": [
    "### 34.3-1\n",
    "\n",
    "> Verify that the circuit in Figure 34.8(b) is unsatisfiable."
   ]
  },
  {
   "cell_type": "code",
   "execution_count": 1,
   "metadata": {
    "collapsed": false
   },
   "outputs": [],
   "source": [
    "results = []\n",
    "for x1 in [0, 1]:\n",
    "    for x2 in [0, 1]:\n",
    "        for x3 in [0, 1]:\n",
    "            g11 = x1 | x2\n",
    "            g12 = ~~x3\n",
    "            g13 = x1 & x2 & ~x3\n",
    "            g21 = g11 & g12\n",
    "            g22 = g12 | g13\n",
    "            result = g21 & g22 & g13\n",
    "            results.append(result)\n",
    "print(max(results))"
   ]
  },
  {
   "cell_type": "markdown",
   "metadata": {},
   "source": []
  }
 ],
 "metadata": {
  "kernelspec": {
   "display_name": "Python 2",
   "language": "python",
   "name": "python2"
  },
  "language_info": {
   "codemirror_mode": {
    "name": "ipython",
    "version": 2
   },
   "file_extension": ".py",
   "mimetype": "text/x-python",
   "name": "python",
   "nbconvert_exporter": "python",
   "pygments_lexer": "ipython2",
   "version": "2.7.12"
  }
 },
 "nbformat": 4,
 "nbformat_minor": 2
}
