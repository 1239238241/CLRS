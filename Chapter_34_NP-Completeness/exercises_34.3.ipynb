{
 "cells": [
  {
   "cell_type": "markdown",
   "metadata": {},
   "source": [
    "## 34.3 NP-completeness and reducibility"
   ]
  },
  {
   "cell_type": "markdown",
   "metadata": {},
   "source": [
    "### 34.3-1\n",
    "\n",
    "> Verify that the circuit in Figure 34.8(b) is unsatisfiable."
   ]
  },
  {
   "cell_type": "code",
   "execution_count": 1,
   "metadata": {
    "collapsed": false
   },
   "outputs": [],
   "source": [
    "results = []\n",
    "for x1 in [0, 1]:\n",
    "    for x2 in [0, 1]:\n",
    "        for x3 in [0, 1]:\n",
    "            g11 = x1 | x2\n",
    "            g12 = ~~x3\n",
    "            g13 = x1 & x2 & ~x3\n",
    "            g21 = g11 & g12\n",
    "            g22 = g12 | g13\n",
    "            result = g21 & g22 & g13\n",
    "            results.append(result)\n",
    "print(max(results))"
   ]
  },
  {
   "cell_type": "markdown",
   "metadata": {},
   "source": [
    "### 34.3-2\n",
    "\n",
    "> Show that the $\\le_\\text{P}$ relation is a transitive relation on languages. That is, show that if $L_1 \\le_\\text{P} L_2$ and $L_2 \\le_\\text{P} L_3$, then $L_1 \\le_\\text{P} L_3$."
   ]
  },
  {
   "cell_type": "markdown",
   "metadata": {},
   "source": [
    "Suppose the reduction function of $L_1 \\le_\\text{P} L_2$ is $f$ and the reduction function of $L_2 \\le_\\text{P} L_3$ is $g$, then the reduction function from $L_1$ to $L_3$ is $g(f)$. Suppose $f$ runs in $O(n^k)$ time with some constant $k$, then the size of output is also $O(n^k)$. Suppose $g$ runs in $O(n^c)$ time with some constant $c$, then the total time of $g(f)$ is $O((n^k)^c) = O(n^{kc})$, which is polynomial to $n$. Therefore $L_1$ is polynomial-time reducible to $L_3$, $L_1 \\le_\\text{P} L_3$."
   ]
  },
  {
   "cell_type": "markdown",
   "metadata": {},
   "source": [
    "### 34.3-3\n",
    "\n",
    "> Prove that $L \\le_{\\text{P}} \\overline{L}$ if and only if $\\overline{L} \\le_{\\text{P}} L$."
   ]
  },
  {
   "cell_type": "markdown",
   "metadata": {},
   "source": [
    "* $L \\le_{\\text{P}} \\overline{L} \\Rightarrow \\overline{L} \\le_{\\text{P}} L$\n",
    "\n",
    "Suppose the polynomial-time reduction is $f$, then $\\forall x \\in L, f(x) \\in \\overline{L}$, and $\\forall x \\notin L, f(x) \\notin \\overline{L}$. $x \\notin L$ means $x \\in \\overline{L}$, $f(x) \\notin \\overline{L}$ means $f(x) \\in L$, therefore we can use the same $f$ for reduction.\n",
    "\n",
    "* $\\overline{L} \\le_{\\text{P}} L \\Rightarrow L \\le_{\\text{P}} \\overline{L}$\n",
    "\n",
    "Symmetric."
   ]
  },
  {
   "cell_type": "markdown",
   "metadata": {},
   "source": [
    "### 34.3-4\n",
    "\n",
    "> Show that we could have used a satisfying assignment as a certificate in an alternative proof of Lemma 34.5. Which certificate makes for an easier proof?"
   ]
  },
  {
   "cell_type": "markdown",
   "metadata": {},
   "source": [
    "Use only inputs and calculate the output."
   ]
  }
 ],
 "metadata": {
  "kernelspec": {
   "display_name": "Python 2",
   "language": "python",
   "name": "python2"
  },
  "language_info": {
   "codemirror_mode": {
    "name": "ipython",
    "version": 2
   },
   "file_extension": ".py",
   "mimetype": "text/x-python",
   "name": "python",
   "nbconvert_exporter": "python",
   "pygments_lexer": "ipython2",
   "version": "2.7.12"
  }
 },
 "nbformat": 4,
 "nbformat_minor": 2
}
