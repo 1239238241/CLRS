{
 "cells": [
  {
   "cell_type": "markdown",
   "metadata": {},
   "source": [
    "## 34.2 Polynomial-time verification"
   ]
  },
  {
   "cell_type": "markdown",
   "metadata": {},
   "source": [
    "### 34.2-1\n",
    "\n",
    "> Consider the language GRAPH-ISOMORPHISM $ = \\{ \\langle G_1, G_2 \\rangle : G_1$ and $G_2$ are isomorphic graphs$\\}$. Prove that GRAPH-ISOMORPHISM $\\in$ NP by describing a polynomial-time algorithm to verfify the language."
   ]
  },
  {
   "cell_type": "markdown",
   "metadata": {},
   "source": [
    "The certificate should be a mapping $f$ that maps $u_1 \\in G_1$ to $u_2 \\in G_2$, which could be an array and the mapping takes $O(1)$ time in a random-access machine.\n",
    "\n",
    "For any $u_1, v_1 \\in G_1$ if there exists an edge in $G_1$ between $u_1$ and $v_1$, then there must exist an edge in $G_2$ that connects $u_2 = f(u_1) \\in G_2$ and $v_2 = f(v_1) \\in G_2$, and vice versa."
   ]
  }
 ],
 "metadata": {
  "kernelspec": {
   "display_name": "Python 2",
   "language": "python",
   "name": "python2"
  },
  "language_info": {
   "codemirror_mode": {
    "name": "ipython",
    "version": 2
   },
   "file_extension": ".py",
   "mimetype": "text/x-python",
   "name": "python",
   "nbconvert_exporter": "python",
   "pygments_lexer": "ipython2",
   "version": "2.7.12"
  }
 },
 "nbformat": 4,
 "nbformat_minor": 2
}
