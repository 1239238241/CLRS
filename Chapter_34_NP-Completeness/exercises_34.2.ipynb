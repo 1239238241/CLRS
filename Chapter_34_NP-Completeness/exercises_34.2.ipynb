{
 "cells": [
  {
   "cell_type": "markdown",
   "metadata": {},
   "source": [
    "## 34.2 Polynomial-time verification"
   ]
  },
  {
   "cell_type": "markdown",
   "metadata": {},
   "source": [
    "### 34.2-1\n",
    "\n",
    "> Consider the language GRAPH-ISOMORPHISM $ = \\{ \\langle G_1, G_2 \\rangle : G_1$ and $G_2$ are isomorphic graphs$\\}$. Prove that GRAPH-ISOMORPHISM $\\in$ NP by describing a polynomial-time algorithm to verfify the language."
   ]
  },
  {
   "cell_type": "markdown",
   "metadata": {},
   "source": [
    "The certificate should be a mapping $f$ that maps $u_1 \\in G_1$ to $u_2 \\in G_2$, which could be an array and the mapping takes $O(1)$ time in a random-access machine.\n",
    "\n",
    "For any $u_1, v_1 \\in G_1$ if there exists an edge in $G_1$ between $u_1$ and $v_1$, then there must exist an edge in $G_2$ that connects $u_2 = f(u_1) \\in G_2$ and $v_2 = f(v_1) \\in G_2$, and vice versa."
   ]
  },
  {
   "cell_type": "markdown",
   "metadata": {},
   "source": [
    "### 34.2-2\n",
    "\n",
    "> Prove that if $G$ is an undirected bipartite graph with an odd number of vertices, then $G$ is nonhamiltonian."
   ]
  },
  {
   "cell_type": "markdown",
   "metadata": {},
   "source": [
    "* starts in even partition: leaves vertices in odd partition unvisited\n",
    "* starts in odd partition: no edge connects two vertices in the same partition"
   ]
  },
  {
   "cell_type": "markdown",
   "metadata": {},
   "source": [
    "### 34.2-3\n",
    "\n",
    "> Show that if HAM-CYCLE $\\in$ P, then the problem of listing the vertices of a hamiltonian cycle, in order, is polynomial-time solvable."
   ]
  },
  {
   "cell_type": "markdown",
   "metadata": {},
   "source": [
    "For every vertice $u \\in V$, let $E_u$ be the set of edges that connects to $u$, enumerate two edges $e_1, e_2 \\in E_u$ until HAM-CYCLE$(\\langle G' = (V, (E - E_u) \\cup \\{e_1, e_2\\}) \\rangle) = 1$ and keep only these two edges (since there exists a hamiltonian cycle that uses the two edges). After removing the edges we can get the order by running a DFS from any vertice."
   ]
  },
  {
   "cell_type": "markdown",
   "metadata": {},
   "source": [
    "### 34.2-4\n",
    "\n",
    "> Prove that the class NP of languages is closed under union, intersection, concatenation, and Kleene star. Discuss the closure of NP under complement."
   ]
  },
  {
   "cell_type": "markdown",
   "metadata": {},
   "source": [
    "* Union\n",
    "\n",
    "```\n",
    "IF A_1(x, y) == 1 || A_2(x, y) == 1\n",
    "THEN RETURN TRUE\n",
    "ELSE RETURN FALSE\n",
    "```"
   ]
  },
  {
   "cell_type": "markdown",
   "metadata": {},
   "source": [
    "* Intersection\n",
    "\n",
    "```\n",
    "IF A_1(x, y) == 1 && A_2(x, y) == 1\n",
    "THEN RETURN TRUE\n",
    "ELSE RETURN FALSE\n",
    "```"
   ]
  },
  {
   "cell_type": "markdown",
   "metadata": {},
   "source": [
    "* Concatenation\n",
    "\n",
    "```\n",
    "FOR i = 1 .. n\n",
    "    FOR j = 1 .. m\n",
    "    IF A_1(x_1 ... x_i, y_1 ... y_j) == 1 && A_2(x_i+1 ... x_n, y_j+1 ... y_m) == 1\n",
    "    THEN RETURN 1\n",
    "RETURN 0\n",
    "```"
   ]
  },
  {
   "cell_type": "markdown",
   "metadata": {},
   "source": [
    "* Kleene star\n",
    "\n",
    "```\n",
    "IF x == epsilon\n",
    "THEN RETURN 1\n",
    "\n",
    "FOR i = 1 .. n\n",
    "    FOR j = 1 .. m\n",
    "        DP[i, j] = 0\n",
    "DP[0, 0] = 1\n",
    "FOR i = 0 .. n\n",
    "    FOR j = 0 .. m\n",
    "        FOR k = i + 1 .. n\n",
    "            FOR l = j + 1 .. m\n",
    "        IF A_1(x_i ... x_k, y_j .. y_l) == 1\n",
    "        THEN DP[k, l] = 1\n",
    "RETURN DP[n, m]\n",
    "```"
   ]
  },
  {
   "cell_type": "markdown",
   "metadata": {},
   "source": [
    "### 34.2-5\n",
    "\n",
    "> Show that any language in NP can be decided by an algorithm running in time $2^{O(n^k)}$ for some constant $k$."
   ]
  },
  {
   "cell_type": "markdown",
   "metadata": {},
   "source": [
    "```\n",
    "FOR all possible y\n",
    "    IF A(x, y) == 1\n",
    "    THEN RETURN 1\n",
    "RETURN 0\n",
    "```"
   ]
  }
 ],
 "metadata": {
  "kernelspec": {
   "display_name": "Python 2",
   "language": "python",
   "name": "python2"
  },
  "language_info": {
   "codemirror_mode": {
    "name": "ipython",
    "version": 2
   },
   "file_extension": ".py",
   "mimetype": "text/x-python",
   "name": "python",
   "nbconvert_exporter": "python",
   "pygments_lexer": "ipython2",
   "version": "2.7.12"
  }
 },
 "nbformat": 4,
 "nbformat_minor": 2
}
