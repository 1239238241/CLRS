{
 "cells": [
  {
   "cell_type": "markdown",
   "metadata": {},
   "source": [
    "## Problems"
   ]
  },
  {
   "cell_type": "markdown",
   "metadata": {},
   "source": [
    "### 34-1 Independent set\n",
    "\n",
    "> An __*independent set*__ of a graph $G = (V, E)$ is a subset $V' \\subseteq V$ of vertices such that each edge in $E$ is incident on at most one vertex in $V'$. The __*independent-set problem*__ is to find a maximum-size independent set in $G$."
   ]
  },
  {
   "cell_type": "markdown",
   "metadata": {},
   "source": [
    "> __*a*__. Formulate a related decision problem for the independent-set problem, and prove that it is NP-complete. (Hint: Reduce from the clique problem.)"
   ]
  },
  {
   "cell_type": "markdown",
   "metadata": {},
   "source": [
    "__Desicision problem:__\n",
    "\n",
    "The independent set in $G$ is at most $k$."
   ]
  },
  {
   "cell_type": "markdown",
   "metadata": {},
   "source": [
    "__ISP $\\in$ NP__:\n",
    "\n",
    "The certificate is a set of vertices $V'$. To verify the certificate, for each $u, v \\in V'$, we should verify that $(u, v) \\notin E$."
   ]
  },
  {
   "cell_type": "markdown",
   "metadata": {},
   "source": [
    "__ISP is NP-hard to CLIQUE $\\Rightarrow$ ISP $\\in$ NPC:__\n",
    "\n",
    "_Construction:_\n",
    "\n",
    "Suppose the complement graph of $G$ is $G'$, then $G$ for CLIQUE is equivalent to $G'$ for ISP.\n",
    "\n",
    "_CLIQUE $\\Rightarrow$ ISP:_\n",
    "\n",
    "Suppose there exists a clique $C$ of size $k$ in $G$, we know $\\forall u, v \\in C$, $(u, v) \\in E$. Therefore in the complement graph $G'$, $\\forall u, v \\in C$, $(u, v) \\notin E$.\n",
    "\n",
    "_ISP $\\Rightarrow$ CLIQUE:_\n",
    "\n",
    "Suppose there exists an independent-set $C$ of size $k$ in $G'$, we know $\\forall u, v \\in C$, $(u, v) \\notin E$. Therefore in the graph $G$, $\\forall u, v \\in C$, $(u, v) \\in E$."
   ]
  },
  {
   "cell_type": "markdown",
   "metadata": {},
   "source": [
    "> __*b*__. Suppose that you are given a \"black-box\" subroutine to solve the decision problem you defined in part (a). Give an algorithm to find an independent set of maximum size. The running time of your algorithm should be polynomial in $|V|$ and $|E|$, counting queries to the black box as a single step."
   ]
  },
  {
   "cell_type": "markdown",
   "metadata": {},
   "source": [
    "```\n",
    "FOR k = |V| .. 1\n",
    "    IF ISP(G, k)\n",
    "    THEN RETURN k\n",
    "RETURN 0\n",
    "```"
   ]
  },
  {
   "cell_type": "markdown",
   "metadata": {},
   "source": [
    "> Although the independent-set decision problem is NP-complete, certain special cases are polynomial-time solvable."
   ]
  },
  {
   "cell_type": "markdown",
   "metadata": {},
   "source": [
    "> __*c*__. Give an efficient algorithm to solve the independent-set problem when each vertex in $G$ has degree 2. Analyze the running time, and prove that your algorithm works correctly."
   ]
  },
  {
   "cell_type": "markdown",
   "metadata": {},
   "source": [
    "The graph is a set of chains and simple cycles."
   ]
  },
  {
   "cell_type": "code",
   "execution_count": 1,
   "metadata": {
    "collapsed": true
   },
   "outputs": [],
   "source": [
    "def isp_in_deg_2(graph):\n",
    "    n = len(graph)\n",
    "    color = [0 for _ in range(n)]\n",
    "\n",
    "    def search(u):\n",
    "        if color[u] != 0:\n",
    "            return\n",
    "        color[u] = 1\n",
    "        for v in graph[u]:\n",
    "            if color[v] == 1:\n",
    "                color[u] = -1\n",
    "                break\n",
    "        for v in graph[u]:\n",
    "            search(v)\n",
    "\n",
    "    for u in range(n):\n",
    "        if len(graph[u]) == 1:\n",
    "            search(u)\n",
    "    for u in range(n):\n",
    "        if color[u] == 0:\n",
    "            search(u)\n",
    "\n",
    "    return len(filter(lambda x: x == 1, color))"
   ]
  },
  {
   "cell_type": "markdown",
   "metadata": {},
   "source": [
    "Runs in $O(|V||E|)$ time."
   ]
  },
  {
   "cell_type": "markdown",
   "metadata": {},
   "source": [
    "> __*d*__. Give an efficient algorithm to solve the independent-set problem when $G$ is bipartite. Analyze the running time, and prove that your algorithm works correctly. (Hint: Use the results of Section 26.3.)"
   ]
  },
  {
   "cell_type": "markdown",
   "metadata": {},
   "source": [
    "See Kőnig's theorem.\n",
    "\n",
    "In bipartite graph, all nodes that are not in the minimum vertex cover can be included in maximum independent set, the number of edges in a maximum matching is equal to the number of vertices in a minimum vertex cover."
   ]
  },
  {
   "cell_type": "markdown",
   "metadata": {},
   "source": [
    "### 34-2 Bonnie and Clyde\n",
    "\n",
    "> Bonnie and Clyde have just robbed a bank. They have a bag of money and want to divide it up. For each of the following scenarios, either give a polynomial-time algorithm, or prove that the problem is NP-complete. The input in each case is a list of the $n$ items in the bag, along with the value of each."
   ]
  },
  {
   "cell_type": "markdown",
   "metadata": {},
   "source": [
    "> __*a*__. The bag contains $n$ coins, but only 2 different denominations: some coins are worth $x$ dollars, and some are worth $y$ dollars. Bonnie and Clyde wish to divide the money exactly evenly."
   ]
  },
  {
   "cell_type": "markdown",
   "metadata": {},
   "source": [
    "Suppose the there are $n_x$ coins with value $x$ and $n_y$ coins with value $y$, then the total value $s = n_x \\cdot x + n_y \\cdot y$. We need to find $a$ and $b$ such that $ax + by = s / 2$, the equation has integer solutions when $s$ is even and $\\text{gcd}(x, y) ~|~ s / 2$. We can find a solution $a_0$ and $b_0$ with extended Euclidean algorithm in $O(\\log n)$ (with a compact encoding, the running time is linear to the input). Then we need to solve the inequations and find a valid integer $t$:"
   ]
  },
  {
   "cell_type": "markdown",
   "metadata": {},
   "source": [
    "$$\n",
    "\\left \\{\n",
    "\\begin{array}{rcccl}\n",
    "0 &\\le& \\displaystyle \\frac{a_{0} \\cdot s}{2 \\cdot \\text{gcd}(x, y)} + \\frac{y}{\\text{gcd}(x, y)} \\cdot t &\\le& n_x \\\\\n",
    "0 &\\le& \\displaystyle \\frac{b_{0} \\cdot s}{2 \\cdot \\text{gcd}(x, y)} - \\frac{x}{\\text{gcd}(x, y)} \\cdot t &\\le& n_y \\\\\n",
    "\\end{array}\n",
    "\\right .\n",
    "$$"
   ]
  },
  {
   "cell_type": "code",
   "execution_count": 2,
   "metadata": {
    "collapsed": true
   },
   "outputs": [],
   "source": [
    "def divide_a(nx, x, ny, y):\n",
    "    s = nx * x + ny * y\n",
    "    if s % 2 == 1:\n",
    "        return -1, -1\n",
    "    s //= 2\n",
    "\n",
    "    def ext_gcd(x, y):\n",
    "        if y == 0:\n",
    "            return x, 1, 0\n",
    "        g, b, a = ext_gcd(y, x % y)\n",
    "        return g, a, b - (x // y) * a\n",
    "\n",
    "    g, a, b = ext_gcd(x, y)\n",
    "    if s % g != 0:\n",
    "        return -1, -1\n",
    "    x, y, s = x // g, y // g, s // g\n",
    "    a, b = a * s, b * s\n",
    "    lx, rx = (-a + (y - 1)) // y, (nx - a) // y\n",
    "    ly, ry = (b - ny + (x - 1)) // x, b // x\n",
    "    if max(lx, ly) > min(rx, ry):\n",
    "        return -1, -1\n",
    "    t = max(lx, ly)\n",
    "    return a + y * t, b - x * t"
   ]
  },
  {
   "cell_type": "markdown",
   "metadata": {},
   "source": [
    "> __*b*__. The bag contains $n$ coins, with an arbitrary number of different denominations, but each denomination is a nonnegative integer power of 2, i.e., the possible denominations are 1 dollar, 2 dollars, 4 dollars, etc. Bonnie and Clyde wish to divide the money exactly evenly."
   ]
  },
  {
   "cell_type": "code",
   "execution_count": 4,
   "metadata": {
    "collapsed": true
   },
   "outputs": [],
   "source": [
    "import copy\n",
    "\n",
    "\n",
    "def divide_b(nums):\n",
    "    \"\"\"\n",
    "    :param nums: nums[i] means there are nums[i] coins with value 2^i\n",
    "    \"\"\"\n",
    "    n = len(nums)\n",
    "    nums = copy.copy(nums)\n",
    "    powers = [2 ** i for i in range(n)]\n",
    "    a = [0 for _ in range(n)]\n",
    "    b = [0 for _ in range(n)]\n",
    "    sum_a, sum_b = 0, 0\n",
    "    i = n - 1\n",
    "    while i >= 0:\n",
    "        if nums[i] == 0:\n",
    "            i -= 1\n",
    "            continue\n",
    "        if sum_a == sum_b:\n",
    "            if nums[i] > 1:\n",
    "                num = nums[i] // 2\n",
    "                a[i] += num\n",
    "                b[i] += num\n",
    "                sum_a += num * powers[i]\n",
    "                sum_b = sum_a\n",
    "                nums[i] %= 2\n",
    "            else:\n",
    "                a[i] += 1\n",
    "                sum_a += powers[i]\n",
    "                nums[i] -= 1\n",
    "        else:\n",
    "            num = min(nums[i], (sum_a - sum_b) // powers[i])\n",
    "            b[i] += num\n",
    "            sum_b += num * powers[i]\n",
    "            nums[i] -= num\n",
    "    if sum_a == sum_b:\n",
    "        return a, b\n",
    "    return None, None"
   ]
  },
  {
   "cell_type": "markdown",
   "metadata": {},
   "source": [
    "> __*c*__. The bag contains $n$ checks, which are, in an amazing coincidence, made out to \"Bonnie or Clyde\". They wish to divide the checks so that they each get the exact same amount of money."
   ]
  },
  {
   "cell_type": "markdown",
   "metadata": {},
   "source": [
    "Equivalent to set-partition problems."
   ]
  },
  {
   "cell_type": "markdown",
   "metadata": {},
   "source": [
    "> __*d*__. The bag contains $n$ checks as in part (c), but this time Bonnie and Clyde are willing to accept a split in which the difference is no larger than 100 dollars."
   ]
  },
  {
   "cell_type": "markdown",
   "metadata": {},
   "source": [
    "The problem is NP since we can verify the difference in polynomial time. We can prove the problem is NP-hard to set partition problem by multiply the sets in set-partition problem by 101. If set-partition problem has a solution, the difference is exactly 0 in this problem; if this problem has a solution, the difference must be a multiple of 101 and the only value satisfies this constrain is 0. Therefore the problem is NP-complete."
   ]
  },
  {
   "cell_type": "markdown",
   "metadata": {},
   "source": [
    "### 34-3 Graph coloring\n",
    "\n",
    "> Mapmakers try to use as few colors as possible when coloring countries on a map, as long as no two countries that share a border have the same color. We can model this problem with an undirected graph $G = (V, E)$ in which each vertex represents a country and vertices whose respective countries share a border are adjacent. Then, a __*k-coloring*__ is a function $c$ : $V \\rightarrow \\{ 1, 2, \\dots, k \\}$ such that $c(u) \\ne c(v)$ for every edge $(u, v) \\in E$. In other words, the numbers $1, 2, \\dots, k$ represent the $k$ colors, and adjacent vertices must have different colors. The __*graph-coloring problem*__ is to determine the minimum number of colors needed to color a given graph."
   ]
  },
  {
   "cell_type": "markdown",
   "metadata": {},
   "source": [
    "> __*a*__. Give an efficient algorithm to determine a 2-coloring of a graph, if one exists."
   ]
  },
  {
   "cell_type": "code",
   "execution_count": 6,
   "metadata": {
    "collapsed": true
   },
   "outputs": [],
   "source": [
    "def graph_coloring_2(graph):\n",
    "    n = len(graph)\n",
    "    color = [-1 for _ in range(n)]\n",
    "\n",
    "    def search(u, c):\n",
    "        if color[u] != -1:\n",
    "            return\n",
    "        color[u] = c\n",
    "        for v in graph[u]:\n",
    "            if color[v] == -1:\n",
    "                if not search(v, 1 - c):\n",
    "                    return False\n",
    "            elif color[v] == c:\n",
    "                return False\n",
    "        return True\n",
    "\n",
    "    for u in range(n):\n",
    "        if color[u] == -1:\n",
    "            if not search(u, 0):\n",
    "                return False\n",
    "\n",
    "    return color"
   ]
  },
  {
   "cell_type": "markdown",
   "metadata": {},
   "source": [
    "> __*b*__. Cast the graph-coloring problem as a decision problem. Show that your decision problem is solvable in polynomial time if and only if the graph-coloring problem is solvable in polynomial time."
   ]
  },
  {
   "cell_type": "markdown",
   "metadata": {},
   "source": [
    "Decision problem: whether there exists a coloring of the graph with at most $k$ colors.\n",
    "\n",
    "Decision $\\rightarrow$ graph-coloring: the first $k$ from 1 to $|V|$ that satisfies the decision problem.\n",
    "\n",
    "Graph coloring $\\rightarrow$ decision: suppose the minimum number of colors is $k'$, then check whether $k \\ge k'$."
   ]
  },
  {
   "cell_type": "markdown",
   "metadata": {},
   "source": [
    "> __*c*__. Let the language 3-COLOR be the set of graphs that can be 3-colored. Show that if 3-COLOR is NP-complete, then your decision problem from part (b) is NP-complete."
   ]
  },
  {
   "cell_type": "markdown",
   "metadata": {},
   "source": [
    "__GCP $\\in$ NP:__\n",
    "\n",
    "Verify for each color $c(u)$ that $c(u) \\in \\{ 1, 2, \\dots, k \\}$ and for each $(u, v) \\in E$ that $c(u) \\ne c(v)$.\n",
    "\n",
    "__3-COLOR $\\le_\\text{P}$ GCP:__\n",
    "\n",
    "A special case in GCP with $k = 3$."
   ]
  },
  {
   "cell_type": "markdown",
   "metadata": {},
   "source": []
  }
 ],
 "metadata": {
  "kernelspec": {
   "display_name": "Python 2",
   "language": "python",
   "name": "python2"
  },
  "language_info": {
   "codemirror_mode": {
    "name": "ipython",
    "version": 2
   },
   "file_extension": ".py",
   "mimetype": "text/x-python",
   "name": "python",
   "nbconvert_exporter": "python",
   "pygments_lexer": "ipython2",
   "version": "2.7.12"
  }
 },
 "nbformat": 4,
 "nbformat_minor": 2
}
