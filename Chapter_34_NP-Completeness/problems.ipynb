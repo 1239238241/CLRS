{
 "cells": [
  {
   "cell_type": "markdown",
   "metadata": {},
   "source": [
    "## Problems"
   ]
  },
  {
   "cell_type": "markdown",
   "metadata": {},
   "source": [
    "### 34-1 Independent set\n",
    "\n",
    "> An __*independent set*__ of a graph $G = (V, E)$ is a subset $V' \\subseteq V$ of vertices such that each edge in $E$ is incident on at most one vertex in $V'$. The __*independent-set problem*__ is to find a maximum-size independent set in $G$."
   ]
  },
  {
   "cell_type": "markdown",
   "metadata": {},
   "source": [
    "> __*a*__. Formulate a related decision problem for the independent-set problem, and prove that it is NP-complete. (Hint: Reduce from the clique problem.)"
   ]
  },
  {
   "cell_type": "markdown",
   "metadata": {},
   "source": [
    "__Desicision problem:__\n",
    "\n",
    "The independent set in $G$ is at most $k$."
   ]
  },
  {
   "cell_type": "markdown",
   "metadata": {},
   "source": [
    "__ISP $\\in$ NP__:\n",
    "\n",
    "The certificate is a set of vertices $V'$. To verify the certificate, for each $u, v \\in V'$, we should verify that $(u, v) \\notin E$."
   ]
  },
  {
   "cell_type": "markdown",
   "metadata": {},
   "source": [
    "__ISP is NP-hard to CLIQUE $\\Rightarrow$ ISP $\\in$ NPC:__\n",
    "\n",
    "_Construction:_\n",
    "\n",
    "Suppose the complement graph of $G$ is $G'$, then $G$ for CLIQUE is equivalent to $G'$ for ISP.\n",
    "\n",
    "_CLIQUE $\\Rightarrow$ ISP:_\n",
    "\n",
    "Suppose there exists a clique $C$ of size $k$ in $G$, we know $\\forall u, v \\in C$, $(u, v) \\in E$. Therefore in the complement graph $G'$, $\\forall u, v \\in C$, $(u, v) \\notin E$.\n",
    "\n",
    "_ISP $\\Rightarrow$ CLIQUE:_\n",
    "\n",
    "Suppose there exists an independent-set $C$ of size $k$ in $G'$, we know $\\forall u, v \\in C$, $(u, v) \\notin E$. Therefore in the graph $G$, $\\forall u, v \\in C$, $(u, v) \\in E$."
   ]
  },
  {
   "cell_type": "markdown",
   "metadata": {},
   "source": [
    "> __*b*__. Suppose that you are given a \"black-box\" subroutine to solve the decision problem you defined in part (a). Give an algorithm to find an independent set of maximum size. The running time of your algorithm should be polynomial in $|V|$ and $|E|$, counting queries to the black box as a single step."
   ]
  },
  {
   "cell_type": "code",
   "execution_count": null,
   "metadata": {
    "collapsed": true
   },
   "outputs": [],
   "source": []
  }
 ],
 "metadata": {
  "kernelspec": {
   "display_name": "Python 2",
   "language": "python",
   "name": "python2"
  },
  "language_info": {
   "codemirror_mode": {
    "name": "ipython",
    "version": 2
   },
   "file_extension": ".py",
   "mimetype": "text/x-python",
   "name": "python",
   "nbconvert_exporter": "python",
   "pygments_lexer": "ipython2",
   "version": "2.7.12"
  }
 },
 "nbformat": 4,
 "nbformat_minor": 2
}
