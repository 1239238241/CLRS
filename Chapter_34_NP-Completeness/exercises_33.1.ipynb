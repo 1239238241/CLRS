{
 "cells": [
  {
   "cell_type": "markdown",
   "metadata": {},
   "source": [
    "## 34.1 Polynomial time"
   ]
  },
  {
   "cell_type": "markdown",
   "metadata": {},
   "source": [
    "### 34.1-1\n",
    "\n",
    "> Define the optimization problem LONGEST-PATH-LENGTH as the relation that associates each instance of an undirected graph and two vertices with the number of edges in a longest simple path between the two vertices. Define the decision problem LONGEST-PATH $=\\{\\langle G, u, v, k \\rangle : G = (V, E)$ is an undirected graph, $u, v \\in V$, $k \\ge 0$ is an integer, and there exists a simple path from $u$ to $v$ in $G$ consisting of at least $k$ edges$\\}$. Show that the optimization problem LONGEST-PATH-LENGTH can be solved in polynomial time if and only if LONGEST-PATH $\\in$ P."
   ]
  },
  {
   "cell_type": "markdown",
   "metadata": {},
   "source": [
    "* LONGEST-PATH-LENGTH can be solved in polynomial time $\\Rightarrow$ LONGEST-PATH $\\in$ P\n",
    "\n",
    "Suppose it takes $O(n^k)$ time to determine that LONGEST-PATH-LENGTH is $k^*$. For any $k \\le k^*$, LONGEST-PATH$(\\langle G, u, v, k \\rangle)=1$, otherwise LONGEST-PATH$(\\langle G, u, v, k \\rangle)=0$, which takes $O(n^k)$ time."
   ]
  },
  {
   "cell_type": "markdown",
   "metadata": {},
   "source": [
    "* LONGEST-PATH-LENGTH can be solved in polynomial time $\\Leftarrow$ LONGEST-PATH $\\in$ P \n",
    "\n",
    "Suppose LONGEST-PATH can be solved in $O(n^k)$ time. Enumerate $k \\in [0, |V| - 1]$ to find the largest $k$ that LONGEST-PATH$(\\langle G, u, v, k \\rangle)=1$ takes $O(|V| \\cdot n^k) = O(n^c \\cdot n^k) = O(n^{ck})$ time, which is still polynomial, while the largest $k$ is the LONGEST-PATH-LENGTH."
   ]
  }
 ],
 "metadata": {
  "kernelspec": {
   "display_name": "Python 3",
   "language": "python",
   "name": "python3"
  },
  "language_info": {
   "codemirror_mode": {
    "name": "ipython",
    "version": 3
   },
   "file_extension": ".py",
   "mimetype": "text/x-python",
   "name": "python",
   "nbconvert_exporter": "python",
   "pygments_lexer": "ipython3",
   "version": "3.6.4"
  }
 },
 "nbformat": 4,
 "nbformat_minor": 2
}
