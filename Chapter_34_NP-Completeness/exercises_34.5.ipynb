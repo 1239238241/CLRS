{
 "cells": [
  {
   "cell_type": "markdown",
   "metadata": {},
   "source": [
    "## 34.5 NP-Completeness"
   ]
  },
  {
   "cell_type": "markdown",
   "metadata": {},
   "source": [
    "### 34.5-1\n",
    "\n",
    "> The __*subgraph-isomorphism problem*__ takes two undirected graphs $G_1$ and $G_2$, and it asks whether $G_1$ is isomorphic to a subgraph of $G_2$. Show that the subgraph-isomorphism problem is NP-complete."
   ]
  },
  {
   "cell_type": "markdown",
   "metadata": {},
   "source": [
    "__Prove SIP $\\in$ NP__\n",
    "\n",
    "The certificate $C$ is a permutation of $[1, \\dots, n]$, we need to check:\n",
    "\n",
    "* $|V_1| = |V_2|$\n",
    "* $|E_1| = |E_2|$\n",
    "* for each pair of nodes $u_i, v_i \\in V_1$: $(u_{C_{u_i}}, v_{C_{v_i}}) \\in E_2$ if $(u_i, v_i) \\in E_1$\n",
    "* for each pair of nodes $u_i, v_i \\in V_1$: $(u_{C_{u_i}}, v_{C_{v_i}}) \\notin E_2$ if $(u_i, v_i) \\notin E_1$\n",
    "\n",
    "It takes $O(|V_1|^2)$ time to verify the certificate, therefore subgraph-isomorphism problem $\\in$ NP."
   ]
  },
  {
   "cell_type": "markdown",
   "metadata": {},
   "source": [
    "__Prove SIP $\\in$ NPC by proving CLIQUE $\\le_\\text{P}$ SIP__"
   ]
  },
  {
   "cell_type": "markdown",
   "metadata": {},
   "source": [
    "*Construction:*\n",
    "\n",
    "Suppose we want to check whether $G_2$ contains a clique of size $k$. We can construct a complete graph $G_1$ that has $k$ vertices, and check whether $G_1$ is isomorphic to a subgraph of $G_2$. The construction takes $O(|V|^2)$ time since $k \\le |V|$ without the loss of generality."
   ]
  },
  {
   "cell_type": "markdown",
   "metadata": {},
   "source": [
    "*CLIQUE $\\Rightarrow$ SIP:*\n",
    "\n",
    "The clique is a subgraph of $G_2$ and isomorphic to $G_1$."
   ]
  },
  {
   "cell_type": "markdown",
   "metadata": {},
   "source": [
    "*SIP $\\Rightarrow$ CLIQUE:*\n",
    "\n",
    "A subgraph in $G_2$ has $k$ vertices and is complete."
   ]
  },
  {
   "cell_type": "markdown",
   "metadata": {},
   "source": [
    "### 34.5-2\n",
    "\n",
    "> Given an integer $m \\times n$ matrix $A$ and an integer $m$-vector $b$, the __*0-1 integer-programming problem*__ asks whether there exists an integer $n$-vector $x$ with elements in the set $\\{0, 1\\}$ such that $Ax \\le b$. Prove that 0-1 integer programming is NP-complete. (Hint: Reduce from 3-CNF-SAT.)"
   ]
  },
  {
   "cell_type": "markdown",
   "metadata": {},
   "source": [
    "__Prove 0-1-IP $\\in$ NP__"
   ]
  },
  {
   "cell_type": "markdown",
   "metadata": {},
   "source": [
    "The certificate is $x$, we can calculate $Ax$ in $O(mn)$."
   ]
  },
  {
   "cell_type": "markdown",
   "metadata": {},
   "source": [
    "__Prove 0-1-IP $\\in$ NPC by proving 3-CNT-SAT $\\le_\\text{P}$ 0-1-IP__"
   ]
  },
  {
   "cell_type": "markdown",
   "metadata": {},
   "source": [
    "_Construction:_\n",
    "\n",
    "(To satisfy $x_1 \\vee \\neg x_2 \\vee \\neg x_3$, we can convert it to $x_1 + (1 - x_2) + (1 - x_3) \\ge 1$ $\\Rightarrow$ $-x_1 + x_2 + x_3 \\le 1$)\n",
    "\n",
    "Suppose in 3-CNT-SAT the formula $\\phi$ has $m$ clauses and $n$ variables. Construct a matrix $A$ of size $m \\times n$, that for each clause $C_i$:\n",
    "\n",
    "* if $x_j \\in C_i$, set $A_{i, j} = -1$,\n",
    "* if $\\neg x_j \\in C_i$, set $A_{i, j} = 1$.\n",
    "\n",
    "Construct a $m$-vector $b$ that:\n",
    "\n",
    "* if there are $k$ $\\neg$s in $C_i$, set $b_{i} = k - 1$.\n",
    "\n",
    "The construction runs in $O(mn)$."
   ]
  },
  {
   "cell_type": "markdown",
   "metadata": {},
   "source": [
    "_3-CNT-SAT $\\Rightarrow$ 0-1-IPP:_\n",
    "\n",
    "Based on how we construct $A$ and $b$."
   ]
  },
  {
   "cell_type": "markdown",
   "metadata": {},
   "source": [
    "_0-1-IPP $\\Rightarrow$ 3-CNT-SAT:_\n",
    "\n",
    "By moving back 1s, at least one item in $C_i$ must be 1."
   ]
  },
  {
   "cell_type": "markdown",
   "metadata": {},
   "source": [
    "### 34.5-3\n",
    "\n",
    "> The __integer linear-programming problem__ is like the 0-1 integer-programming problem given in Exercise 34.5-2, except that the values of the vector $x$ may be any integers rather than just 0 or 1. Assuming that the 0-1 integer-programming problem is NP-hard, show that the integer linear-programming problem is NP-complete."
   ]
  },
  {
   "cell_type": "markdown",
   "metadata": {},
   "source": [
    "__Prove ILP $\\in$ NP__\n",
    "\n",
    "The certificate is $x$, we can calculate $Ax$ in $O(mn)$."
   ]
  },
  {
   "cell_type": "markdown",
   "metadata": {},
   "source": [
    "__Prove ILP $\\in$ NPC by proving 0-1-IP $\\le_\\text{P}$ ILP__\n",
    "\n",
    "(Add constrains $0 \\le x_i \\le 1$ $\\Rightarrow$ $-x_i \\le 0$ and $x_i \\le 1$)\n",
    "\n",
    "Suppose the original $A$ in 0-1-IP is of size $m \\times n$, then the extended $A'$ is of size $(m + 2n) \\times n$:\n",
    "\n",
    "* if $i <= m$, $A'_{i, j} = A_{i, j}$,\n",
    "* if $i > m$ and $i - m$ is even, $A_{i, (i - m) / 2} = -1$,\n",
    "* if $i > m$ and $i - m$ is odd, $A_{i, (i - m - 1) / 2} = 1$.\n",
    "\n",
    "The constructed $(m + 2n)$-vector $b'$:\n",
    "\n",
    "* if $i <= m$, $b'_{i} = b_{i}$,\n",
    "* if $i > m$ and $i - m$ is even, $b_{i} = 0$,\n",
    "* if $i > m$ and $i - m$ is odd, $b_{i} = 1$.\n",
    "\n",
    "The construction runs in $O(mn)$."
   ]
  },
  {
   "cell_type": "markdown",
   "metadata": {},
   "source": [
    "### 34.5-4\n",
    "\n",
    "> Show how to solve the subset-sum problem in polynomial time if the target value $t$ is expressed in unary."
   ]
  },
  {
   "cell_type": "markdown",
   "metadata": {},
   "source": [
    "0-1 knapsack.\n",
    "\n",
    "```\n",
    "dp[0, .., t] = FALSE\n",
    "dp[0] = TRUE\n",
    "FOR s IN S\n",
    "    FOR i IN [t, .., 0]\n",
    "        IF dp[i - s] THEN\n",
    "            dp[i] = TRUE\n",
    "            BREAK\n",
    "RETURN dp[t]\n",
    "```\n",
    "\n",
    "Runs in $O(|S|t)$, since $t$ is expressed in unary, the time complexity is a polynomial function of the input."
   ]
  }
 ],
 "metadata": {
  "kernelspec": {
   "display_name": "Python 2",
   "language": "python",
   "name": "python2"
  },
  "language_info": {
   "codemirror_mode": {
    "name": "ipython",
    "version": 2
   },
   "file_extension": ".py",
   "mimetype": "text/x-python",
   "name": "python",
   "nbconvert_exporter": "python",
   "pygments_lexer": "ipython2",
   "version": "2.7.12"
  }
 },
 "nbformat": 4,
 "nbformat_minor": 2
}
