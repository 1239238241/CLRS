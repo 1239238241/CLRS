{
 "cells": [
  {
   "cell_type": "markdown",
   "metadata": {},
   "source": [
    "## 34.5 NP-Completeness"
   ]
  },
  {
   "cell_type": "markdown",
   "metadata": {},
   "source": [
    "### 34.5-1\n",
    "\n",
    "> The __*subgraph-isomorphism problem*__ takes two undirected graphs $G_1$ and $G_2$, and it asks whether $G_1$ is isomorphic to a subgraph of $G_2$. Show that the subgraph-isomorphism problem is NP-complete."
   ]
  },
  {
   "cell_type": "markdown",
   "metadata": {},
   "source": [
    "__Prove SIP $\\in$ NP__\n",
    "\n",
    "The certificate $C$ is a permutation of $[1, \\dots, n]$, we need to check:\n",
    "\n",
    "* $|V_1| = |V_2|$\n",
    "* $|E_1| = |E_2|$\n",
    "* for each pair of nodes $u_i, v_i \\in V_1$: $(u_{C_{u_i}}, v_{C_{v_i}}) \\in E_2$ if $(u_i, v_i) \\in E_1$\n",
    "* for each pair of nodes $u_i, v_i \\in V_1$: $(u_{C_{u_i}}, v_{C_{v_i}}) \\notin E_2$ if $(u_i, v_i) \\notin E_1$\n",
    "\n",
    "It takes $O(|V_1|^2)$ time to verify the certificate, therefore subgraph-isomorphism problem $\\in$ NP."
   ]
  },
  {
   "cell_type": "markdown",
   "metadata": {},
   "source": [
    "__Prove SIP $\\in$ NPC by proving CLIQUE $\\le_\\text{P}$ SIP__"
   ]
  },
  {
   "cell_type": "markdown",
   "metadata": {},
   "source": [
    "*Construction:*\n",
    "\n",
    "Suppose we want to check whether $G_2$ contains a clique of size $k$. We can construct a complete graph $G_1$ that has $k$ vertices, and check whether $G_1$ is isomorphic to a subgraph of $G_2$. The construction takes $O(|V|^2)$ time since $k \\le |V|$ without the loss of generality."
   ]
  },
  {
   "cell_type": "markdown",
   "metadata": {},
   "source": [
    "*CLIQUE $\\Rightarrow$ SIP:*\n",
    "\n",
    "The clique is a subgraph of $G_2$ and isomorphic to $G_1$."
   ]
  },
  {
   "cell_type": "markdown",
   "metadata": {},
   "source": [
    "*SIP $\\Rightarrow$ CLIQUE:*\n",
    "\n",
    "A subgraph in $G_2$ has $k$ vertices and is complete."
   ]
  }
 ],
 "metadata": {
  "kernelspec": {
   "display_name": "Python 2",
   "language": "python",
   "name": "python2"
  },
  "language_info": {
   "codemirror_mode": {
    "name": "ipython",
    "version": 2
   },
   "file_extension": ".py",
   "mimetype": "text/x-python",
   "name": "python",
   "nbconvert_exporter": "python",
   "pygments_lexer": "ipython2",
   "version": "2.7.12"
  }
 },
 "nbformat": 4,
 "nbformat_minor": 2
}
