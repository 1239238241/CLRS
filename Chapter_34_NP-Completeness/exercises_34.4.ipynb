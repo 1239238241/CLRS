{
 "cells": [
  {
   "cell_type": "markdown",
   "metadata": {},
   "source": [
    "## 34.4 NP-completeness proofs"
   ]
  },
  {
   "cell_type": "markdown",
   "metadata": {},
   "source": [
    "### 34.4-1\n",
    "\n",
    "> Consider the straightforward (nonpolynomial-time) reduction in the proof of Theorem 34.9. Describe a circuit of size $n$ that, when converted to a formula by this method, yields a formula whose size is exponential in $n$."
   ]
  },
  {
   "cell_type": "markdown",
   "metadata": {},
   "source": [
    "Construct the circuit as follows: one input $x_1$ followed by a NOT gate, then followed AND gates which each connects all the outputs of previous steps.\n",
    "\n",
    "We can encode the circuit in $O(n^k)$, but the formula yielded grows exponentially in each step."
   ]
  },
  {
   "cell_type": "markdown",
   "metadata": {},
   "source": [
    "### 34.4-2\n",
    "\n",
    "> Show the 3-CNF formula that results when we use the method of Theorem 34.10 on the formula (34.3)."
   ]
  },
  {
   "cell_type": "markdown",
   "metadata": {},
   "source": [
    "$$\n",
    "\\begin{array}{lll}\n",
    "\\phi' = y_1 &\\wedge& (y_1 \\leftrightarrow (y_2 \\wedge \\neg x_2)) \\\\\n",
    "         &\\wedge& (y_2 \\leftrightarrow (y_3 \\vee y_4)) \\\\\n",
    "         &\\wedge& (y_3 \\leftrightarrow (x_1 \\rightarrow x_2)) \\\\\n",
    "         &\\wedge& (y_4 \\leftrightarrow \\neg y_5) \\\\\n",
    "         &\\wedge& (y_5 \\leftrightarrow (y_6 \\vee x_4)) \\\\\n",
    "         &\\wedge& (y_6 \\leftrightarrow (\\neg x_1 \\leftrightarrow x_3)) \\\\\n",
    "\\end{array}\n",
    "$$"
   ]
  },
  {
   "cell_type": "markdown",
   "metadata": {},
   "source": [
    "$$\n",
    "\\begin{array}{lll}\n",
    "\\phi'' = y_1\n",
    "&\\wedge& (\\neg y1 \\vee \\neg y2 \\vee \\neg x2) \\\\\n",
    "&\\wedge& (\\neg y1 \\vee y2 \\vee \\neg x2) \\\\\n",
    "&\\wedge& (\\neg y1 \\vee y2 \\vee x2) \\\\\n",
    "&\\wedge& (y1 \\vee \\neg y2 \\vee x2) \\\\\n",
    "&\\wedge& (\\neg y2 \\vee y3 \\vee y4) \\\\\n",
    "&\\wedge& (y2 \\vee \\neg y3 \\vee \\neg y4) \\\\\n",
    "&\\wedge& (y2 \\vee \\neg y3 \\vee y4) \\\\\n",
    "&\\wedge& (y2 \\vee y3 \\vee \\neg y4) \\\\\n",
    "&\\wedge& (\\neg y3 \\vee \\neg x1 \\vee x2) \\\\\n",
    "&\\wedge& (y3 \\vee \\neg x1 \\vee \\neg x2) \\\\\n",
    "&\\wedge& (y3 \\vee x1 \\vee \\neg x2) \\\\\n",
    "&\\wedge& (y3 \\vee x1 \\vee x2) \\\\\n",
    "&\\wedge& (\\neg y4 \\vee \\neg y5) \\\\\n",
    "&\\wedge& (y4 \\vee y5) \\\\\n",
    "&\\wedge& (\\neg y5 \\vee y6 \\vee x4) \\\\\n",
    "&\\wedge& (y5 \\vee \\neg y6 \\vee \\neg x4) \\\\\n",
    "&\\wedge& (y5 \\vee \\neg y6 \\vee x4) \\\\\n",
    "&\\wedge& (y5 \\vee y6 \\vee \\neg x4) \\\\\n",
    "&\\wedge& (\\neg y6 \\vee \\neg x1 \\vee \\neg x3) \\\\\n",
    "&\\wedge& (\\neg y6 \\vee x1 \\vee x3) \\\\\n",
    "&\\wedge& (y6 \\vee \\neg x1 \\vee x3) \\\\\n",
    "&\\wedge& (y6 \\vee x1 \\vee \\neg x3) \\\\\n",
    "\\end{array}\n",
    "$$"
   ]
  },
  {
   "cell_type": "markdown",
   "metadata": {},
   "source": [
    "$$\n",
    "\\begin{array}{lll}\n",
    "\\phi'''\n",
    "&  =  & (y1 \\vee p \\vee q) \\\\\n",
    "&\\wedge& (y1 \\vee p \\vee \\neg q) \\\\\n",
    "&\\wedge& (y1 \\vee \\neg p \\vee q) \\\\\n",
    "&\\wedge& (y1 \\vee \\neg p \\vee \\neg q) \\\\\n",
    "&\\wedge& (\\neg y1 \\vee \\neg y2 \\vee \\neg x2) \\\\\n",
    "&\\wedge& (\\neg y1 \\vee y2 \\vee \\neg x2) \\\\\n",
    "&\\wedge& (\\neg y1 \\vee y2 \\vee x2) \\\\\n",
    "&\\wedge& (y1 \\vee \\neg y2 \\vee x2) \\\\\n",
    "&\\wedge& (\\neg y2 \\vee y3 \\vee y4) \\\\\n",
    "&\\wedge& (y2 \\vee \\neg y3 \\vee \\neg y4) \\\\\n",
    "&\\wedge& (y2 \\vee \\neg y3 \\vee y4) \\\\\n",
    "&\\wedge& (y2 \\vee y3 \\vee \\neg y4) \\\\\n",
    "&\\wedge& (\\neg y3 \\vee \\neg x1 \\vee x2) \\\\\n",
    "&\\wedge& (y3 \\vee \\neg x1 \\vee \\neg x2) \\\\\n",
    "&\\wedge& (y3 \\vee x1 \\vee \\neg x2) \\\\\n",
    "&\\wedge& (y3 \\vee x1 \\vee x2) \\\\\n",
    "&\\wedge& (\\neg y4 \\vee \\neg y5 \\vee p) \\\\\n",
    "&\\wedge& (\\neg y4 \\vee \\neg y5 \\vee \\neg p) \\\\\n",
    "&\\wedge& (y4 \\vee y5 \\vee p) \\\\\n",
    "&\\wedge& (y4 \\vee y5 \\vee \\neg p) \\\\\n",
    "&\\wedge& (\\neg y5 \\vee y6 \\vee x4) \\\\\n",
    "&\\wedge& (y5 \\vee \\neg y6 \\vee \\neg x4) \\\\\n",
    "&\\wedge& (y5 \\vee \\neg y6 \\vee x4) \\\\\n",
    "&\\wedge& (y5 \\vee y6 \\vee \\neg x4) \\\\\n",
    "&\\wedge& (\\neg y6 \\vee \\neg x1 \\vee \\neg x3) \\\\\n",
    "&\\wedge& (\\neg y6 \\vee x1 \\vee x3) \\\\\n",
    "&\\wedge& (y6 \\vee \\neg x1 \\vee x3) \\\\\n",
    "&\\wedge& (y6 \\vee x1 \\vee \\neg x3) \\\\\n",
    "\\end{array}\n",
    "$$"
   ]
  },
  {
   "cell_type": "markdown",
   "metadata": {},
   "source": [
    "### 34.4-3\n",
    "\n",
    "> Professor Jagger proposes to show that SAT $\\le_\\text{P}$ 3-CNF-SAT by using only the truth-table technique in the proof of Theorem 34.10, and not the other steps. That is, the professor proposes to take the boolean formula $\\phi$, form a truth table for its variables, derive from the truth table a formula in 3-DNF that is equivalent to $\\neg \\phi$, and then negate and apply DeMorgan's laws to produce a 3-CNF formula equivalent to $\\phi$. Show that this strategy does not yield a polynomial-time reduction."
   ]
  },
  {
   "cell_type": "markdown",
   "metadata": {},
   "source": [
    "Suppose the number of variables in the formula is $n$, the number of rows in the truth table is $2^n$."
   ]
  }
 ],
 "metadata": {
  "kernelspec": {
   "display_name": "Python 2",
   "language": "python",
   "name": "python2"
  },
  "language_info": {
   "codemirror_mode": {
    "name": "ipython",
    "version": 2
   },
   "file_extension": ".py",
   "mimetype": "text/x-python",
   "name": "python",
   "nbconvert_exporter": "python",
   "pygments_lexer": "ipython2",
   "version": "2.7.12"
  }
 },
 "nbformat": 4,
 "nbformat_minor": 2
}
